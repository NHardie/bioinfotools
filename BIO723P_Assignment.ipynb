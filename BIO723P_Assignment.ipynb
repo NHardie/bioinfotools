{
 "cells": [
  {
   "cell_type": "markdown",
   "metadata": {},
   "source": [
    "# Bio723P Coding for Scientists Final Assignment, 2020/21"
   ]
  },
  {
   "cell_type": "markdown",
   "metadata": {},
   "source": [
    "This assignment counts towards 100% of the marks for this module. The assignment is divided into four questions, each carrying 25 marks."
   ]
  },
  {
   "cell_type": "markdown",
   "metadata": {},
   "source": [
    "## Student name and number\n",
    "Enter your full name and student number in the cell below"
   ]
  },
  {
   "cell_type": "markdown",
   "metadata": {},
   "source": [
    "full name: Nicholas Edward Hardie\n",
    "\n",
    "student number: bt20726"
   ]
  },
  {
   "cell_type": "markdown",
   "metadata": {},
   "source": [
    "\n",
    "## Deadline and submission\n",
    "\n",
    "Complete this notebook with your code, compress it and submit it as a single .zip or .gz file through the QMPlus page by the appropriate deadline:\n",
    "\n",
    "    full-time students: Friday Oct 30th, 24:00 midnight\n",
    "    part-time students: Friday Nov 13th, 24:00 midnight\n",
    "\n",
    "## Submission checklist\n",
    "\n",
    "* Notebook is written in Python 3 and can be opened and run on the EECS JupyterHub.\n",
    "* Any import statements are grouped in the cell provided at the end of this introduction; name and version of the library are given in a comment. There should be no other import statements in the notebook.\n",
    "* Notebook functions pass all tests when cells are run with a fresh kernel from top to bottom.\n",
    "* Notebook only contains well commented answer code and the original tests. Please remove your own test code.\n",
    "* Notebook includes the full name and student number of the author.\n",
    "* Zip file containing the notebook is free from errors.\n",
    "\n",
    "Please refrain from editing the text of the assignment and the test code provided. Feel free to insert text or code cells as needed, but please clean up rough work that you do not wish to be marked.\n",
    "\n",
    "## Marking\n",
    "\n",
    "Your work will be marked **automatically**. Marks will be based on:\n",
    "\n",
    "        completeness and correctness: 100%\n",
    "        \n",
    "For automatic marking to function appropriately, each of your answers **must** pass the tests provided when running the notebook from top to bottom on a fresh kernel. Code that does not pass the tests or does not run (directly or indirectly, e.g. a function calling another function) by the functions you are asked to implement will **not** be marked.\n",
    "\n",
    "The test code provided with each question does **not** ensure that your submission is correct; it only ensures that it can be marked automatically. You will need to test your code independently for correctness; however, please remove your test code from your final submission, and do not submit any test data; the marking script will test your code with its own choice of data.\n",
    "\n",
    "## How to answer questions\n",
    "\n",
    "This assignment contains four questions, that can in principle be tackled in any order. However, we suggest that you answer Question 3 before attempting Question 4.\n",
    "\n",
    "Each question will require you to code a few functions. As you progress through the subquestions, you may have to rely on your answer to previous subquestions to perform some operations. Please call the relevant functions and avoid duplicating code.  \n",
    "\n",
    "\n",
    "## Use of libraries\n",
    "\n",
    "This assignment is designed to be feasible using only the functions in the Python standard library, and we recommend that you do not use anything else. However, you are free to use any library available in PyPI if you think that would make your work easier. If you do decide to use any additional libraries, these must be installable from PyPI using *pip*. Specify in the cell below all necessary import statements; for functions that are not part of the standard library, include the name and version of the library in a comment."
   ]
  },
  {
   "cell_type": "code",
   "execution_count": 1299,
   "metadata": {},
   "outputs": [],
   "source": [
    "# Please put all your import statements here, according to the example. Include a comment with the name of \n",
    "# the library and its version. Do not include import statements in the rest of the code\n",
    "\n",
    "# Example:\n",
    "# Biopython v 1.78\n",
    "# import Bio # this would obviously be uncommented if you are importing Biopython\n",
    "\n",
    "# Math\n",
    "import math "
   ]
  },
  {
   "cell_type": "markdown",
   "metadata": {},
   "source": [
    "## Preliminary reading\n",
    "\n",
    "Please read the PDF file ```BIO723P_Assignment_Background.pdf``` distributed with this assigment carefully before you start coding."
   ]
  },
  {
   "cell_type": "markdown",
   "metadata": {},
   "source": [
    "# Question 1: Primers and melting temperature"
   ]
  },
  {
   "cell_type": "markdown",
   "metadata": {},
   "source": [
    "### Question 1.a: Reading a DNA sequence from a file\n",
    "\n",
    "Write a python function called ```readDNAsequence``` that takes as its argument the name of a file.  When passed the name of a FASTA file, the function should read the file, discard the header and return the sequence as a string. Your code should raise ```BadSequenceException``` (defined below) if the sequence part of the file contains characters that are not one of the letters A, C, T, G, U. All U nucleotides should be replaced by T in the returned string (for simplicity, we will be working with T only throughout the rest of this assignment)."
   ]
  },
  {
   "cell_type": "code",
   "execution_count": 1355,
   "metadata": {},
   "outputs": [],
   "source": [
    "# Run this cell to define the exception\n",
    "class BadSequenceException(Exception):\n",
    "    pass"
   ]
  },
  {
   "cell_type": "code",
   "execution_count": 1359,
   "metadata": {},
   "outputs": [],
   "source": [
    "# Read data from fasta file format\n",
    "# discard header\n",
    "# replace U with T\n",
    "# return sequence as a string\n",
    "\n",
    "# Example: readDNAsequence(\"dna.fa\")\n",
    "\n",
    "def readDNAsequence(file):\n",
    "    \n",
    "    #Open file with read permissions\n",
    "    with open(file, \"r\") as fasta:\n",
    "        \n",
    "        #Remove whitespace, return lines as lists. Useful as can easily get headers/ sequences. \n",
    "        #Could use .read() to produce a string first, but would still need to strip /n. \n",
    "        fas_list = [line.strip() for line in fasta.readlines()]\n",
    "        \n",
    "        #Name header, sequence as list indexes\n",
    "        header, sequence = fas_list[0], fas_list[1:]\n",
    "        \n",
    "        #Cat list of sequences into single string\n",
    "        sequence = \"\".join(sequence)\n",
    "        \n",
    "        #Check sequence is DNA/RNA\n",
    "        for i in sequence:\n",
    "            if i not in \"ACGTU\":\n",
    "                raise BadSequenceException(\"Sequence must be nucleotide character, offending character:\", i)\n",
    "        \n",
    "        #Replace U with T\n",
    "        sequence = sequence.replace(\"U\", \"T\")\n",
    "        \n",
    "        #Return sequence\n",
    "        return sequence\n",
    "    \n",
    "#readDNAsequence(\"dna.fa\")"
   ]
  },
  {
   "cell_type": "code",
   "execution_count": 1357,
   "metadata": {},
   "outputs": [
    {
     "name": "stdout",
     "output_type": "stream",
     "text": [
      "OK\n"
     ]
    }
   ],
   "source": [
    "# Test code\n",
    "import os\n",
    "with open(\"test9876345.fas\", \"wt\") as _OUTF:\n",
    "    _OUTF.write(\"> test\\n\")\n",
    "    _OUTF.write(\"ACTG\\n\")\n",
    "_seq=readDNAsequence(\"test9876345.fas\")\n",
    "assert type(_seq) is type(\"\"), \"Return value is not a string: %r\" % _seq\n",
    "os.remove(\"test9876345.fas\")\n",
    "print(\"OK\")"
   ]
  },
  {
   "cell_type": "markdown",
   "metadata": {},
   "source": [
    "### Question 1.b: Computing the complement of a sequence"
   ]
  },
  {
   "cell_type": "markdown",
   "metadata": {},
   "source": [
    "Write a function called ```complement``` that takes a string containing a DNA sequence as its only  parameter and returns the complement of the sequence in a string. The function should raise ```BadSequenceException``` if the argument sequence contains anything else than the four characters A, C, T, G.\n"
   ]
  },
  {
   "cell_type": "code",
   "execution_count": 1358,
   "metadata": {},
   "outputs": [],
   "source": [
    "#Complement dna sequence\n",
    "#Take dna sequence\n",
    "#Check for bad sequence error\n",
    "#Swap complements\n",
    "#return string\n",
    "\n",
    "#Example: complement(\"ACGTTTCG\")\n",
    "\n",
    "# Define function\n",
    "def complement(dna):\n",
    "    \n",
    "    #Make uppercase\n",
    "    dna = dna.upper()\n",
    "    \n",
    "    #Check sequence is actually DNA\n",
    "    for i in dna:\n",
    "        if i not in \"ACTG\":\n",
    "            raise BadSequenceException(\"Sequence can't contain characters other than nucleotides\", i)\n",
    "    \n",
    "    #Create complement dictionary\n",
    "    dna_complement = {\"A\": \"T\", \"C\": \"G\", \"G\": \"C\", \"T\": \"A\"}\n",
    "    \n",
    "    #Use list comprehension to loop through \n",
    "    dna_comp = [dna_complement[i] for i in dna] \n",
    "    \n",
    "    #Join list together for a string\n",
    "    #Can add [::-1] for reverse complement\n",
    "    return \"\".join(dna_comp)\n",
    "\n",
    "#complement(\"ACGTTTCG\")"
   ]
  },
  {
   "cell_type": "code",
   "execution_count": 1351,
   "metadata": {},
   "outputs": [
    {
     "name": "stdout",
     "output_type": "stream",
     "text": [
      "OK\n"
     ]
    }
   ],
   "source": [
    "# Test code\n",
    "_seq=complement(\"ACGTTTCG\")\n",
    "assert type(_seq) is type(\"\"), \"Return value is not a string: %r\" % _seq\n",
    "print(\"OK\")"
   ]
  },
  {
   "cell_type": "markdown",
   "metadata": {},
   "source": [
    "### Question 1.c: Extracting primers"
   ]
  },
  {
   "cell_type": "markdown",
   "metadata": {},
   "source": [
    "Write a function called ```primer``` that takes three parameters: a DNA sequence called ```sequence```, an integer ```length``` that is 20 by default and a Boolean value ```forward``` that is ```True``` by default. When ```forward``` is ```True``` (or is not passed), the function should return a Forward primer for the sequence passed as ```sequence```; when it is ```False```, it should return a  Reverse primer. The length of the primer is specified by ```length```; if this is not passed, a primer of length 20 should be returned.  Refer to the Background document for a definition of primers and how to compute them. If the sequence is shorter than ```length``` nucleotides, your code should return a ```BadSequenceException```.\n"
   ]
  },
  {
   "cell_type": "code",
   "execution_count": 1348,
   "metadata": {},
   "outputs": [],
   "source": [
    "#Primer(DNA SEQUENCE, LENGTH (20), FORWARD(TRUE))\n",
    "#When forward = true: return forward primer for sequence, aka forward strand, as it binds to the 3' of the antisense strand\n",
    "#When forward = false, return reverse primer, aka reverse complement\n",
    "#length = length of the primer, default 20\n",
    "#Iff sequence < length, return BadSequenceError\n",
    "\n",
    "#Using template for complement above to define reverse_complement\n",
    "\n",
    "# Example: reverse_complement(\"ACGTTTCG\")\n",
    "\n",
    "# Return of reverse_complement doesn't print any value, might have to split cell to get it to return value to std out?\n",
    "\n",
    "# Define function\n",
    "def reverse_complement(dna):\n",
    "    \n",
    "    #Make uppercase\n",
    "    dna = dna.upper()\n",
    "    \n",
    "    #Check sequence is actually DNA\n",
    "    for i in dna:\n",
    "        if i not in \"ACTG\":\n",
    "            raise BadSequenceException(\"Sequence can't contain characters other than nucleotides\", i)\n",
    "    \n",
    "    #Create complement dictionary\n",
    "    dna_complement = {\"A\": \"T\", \"C\": \"G\", \"G\":\"C\", \"T\": \"A\"}\n",
    "    \n",
    "    #Use list comprehension to loop through \n",
    "    dna_comp = [dna_complement[i] for i in dna] \n",
    "    \n",
    "    #Join list together for a string\n",
    "    #[::-1] for reverse complement\n",
    "    reverse = \"\".join(dna_comp)[::-1]\n",
    "    \n",
    "    #print(reverse)\n",
    "    \n",
    "    # Return reverse complement\n",
    "    return reverse\n",
    "\n",
    "#reverse_complement(\"ACGTTTCG\")\n",
    "\n",
    "\n",
    "\n",
    "#Example : primer(\"ACTGTGCACGTGCTAGCTGACTGATCG\", 10, False)\n",
    "#Specify parameters to use default for length, but False for forward\n",
    "#primer(\"ACTGTGCACGTGCTAGCTGACTGATCG\", forward = False)\n",
    "\n",
    "\n",
    "#Define primer, with default values for length and forward\n",
    "def primer(sequence, length = 20, forward = True):\n",
    "    \n",
    "    #Check primer length isn't longer than that of the sequence\n",
    "    if length > len(sequence):\n",
    "        return BadSequenceException(\"Sequence too short\")\n",
    "    \n",
    "    #Produce required length of the sequence for the forward primer\n",
    "    if forward == True:\n",
    "        return sequence[:length]\n",
    "    \n",
    "    #Produce reverse complement of the sequence for the reverse strand\n",
    "    if forward == False:\n",
    "        return reverse_complement(sequence)[:length]\n",
    "    \n",
    "#primer(\"ACTGTGCACGTGCTAGCTGACTGATCG\", 10, False)"
   ]
  },
  {
   "cell_type": "code",
   "execution_count": 1321,
   "metadata": {},
   "outputs": [
    {
     "name": "stdout",
     "output_type": "stream",
     "text": [
      "OK\n"
     ]
    }
   ],
   "source": [
    "# Test code\n",
    "_seq=primer(sequence=\"AAAAATTTTTCCCCCGGGGGAAAAA\", length= 20, forward=False)\n",
    "assert type(_seq) is type(\"\"), \"Return value is not a string: %r\" % _seq\n",
    "print(\"OK\")"
   ]
  },
  {
   "cell_type": "markdown",
   "metadata": {},
   "source": [
    "### Question 1.d: Computing the melting temperature"
   ]
  },
  {
   "cell_type": "markdown",
   "metadata": {},
   "source": [
    "Write a function called ```meltingTemp``` that takes a string representing a primer as its argument. The function should return the melting temperature of the primer in degrees Celsius according to the equation given in the Background document. If the sequence contains characters other than A, C, T, G, the function should raise a ```BadSequenceException```."
   ]
  },
  {
   "cell_type": "code",
   "execution_count": 1341,
   "metadata": {},
   "outputs": [],
   "source": [
    "#Melting temp\n",
    "\n",
    "#Take primer as a string\n",
    "#Figure out GC AT counts\n",
    "#Calculate melting temp of primer in celsius, using equation Tm= 4(G + C) + 2(A + T)\n",
    "#Raise BadSeqException if characters other than ACTG\n",
    "\n",
    "#Example: meltingTemp(\"acgtagctgatcgta\")\n",
    "#Results: Melt temp is: 44 C\n",
    "         #44\n",
    "\n",
    "\n",
    "# Define meltingtemp of a primer sequence\n",
    "def meltingTemp(primer):\n",
    "    \n",
    "    # Ensure uppercase\n",
    "    primer = primer.upper()\n",
    "    \n",
    "    # Check all characters represent nucleotides\n",
    "    for i in primer:\n",
    "        if i not in \"ACTG\":\n",
    "            raise BadSequenceException(\"Sequence can't contain characters other than nucleotides\", i)\n",
    "    \n",
    "    # Set a dictionary to store counts\n",
    "    nucleotide_counts = {\"A\": 0, \"C\": 0, \"G\": 0, \"T\": 0}\n",
    "    \n",
    "    # Fill dictionary with numbers of nucleotides in sequence\n",
    "    for i in primer:\n",
    "        nucleotide_counts[i] += 1\n",
    "    \n",
    "    # Calculate temprature melt\n",
    "    tm = 4*(nucleotide_counts[\"G\"] + nucleotide_counts[\"C\"]) + 2*(nucleotide_counts[\"A\"] + nucleotide_counts[\"T\"])\n",
    "    \n",
    "    # Nice string formatting\n",
    "    #print(\"Melt temp is:\",tm, \"C\")\n",
    "    \n",
    "    # Return int value\n",
    "    return tm\n",
    "\n",
    "#meltingTemp(\"acgtgacgtagctgatcg\")"
   ]
  },
  {
   "cell_type": "code",
   "execution_count": 1323,
   "metadata": {},
   "outputs": [
    {
     "name": "stdout",
     "output_type": "stream",
     "text": [
      "OK\n"
     ]
    }
   ],
   "source": [
    "# Test code\n",
    "_temp=meltingTemp(\"AAAAATTTTTCCCCCGGGGG\")\n",
    "assert ((type(_temp) is type(0.0)) or\n",
    "        (type(_temp) is type(0))), \"Return value is not a number: %r\" % _temp\n",
    "print(\"OK\")"
   ]
  },
  {
   "cell_type": "markdown",
   "metadata": {},
   "source": [
    "### Question 1.e: Putting it all together\n",
    "\n",
    "Write a function called ```sequencePCRtemp``` that takes a string containing the name of a FASTA file as its argument. The function should return the average melting temperature of the two primers of the sequence as a ```float```."
   ]
  },
  {
   "cell_type": "code",
   "execution_count": 1340,
   "metadata": {},
   "outputs": [],
   "source": [
    "# SequencePCRtemp\n",
    "#Take a string fasta file as arg\n",
    "#Return average melting temp of the two primers as a float\n",
    "\n",
    "# Example sequencePCRtemp(\"dna.fa\")\n",
    "\n",
    "# BUG: Doesn't work if the sequence in the file is too short, but produces: \n",
    "# AttributeError: 'BadSequenceException' object has no attribute 'upper'\n",
    "# Although this error relates to using a character orther than \"ACGTU\", which makes me wonder about \\n, \" \", etc\n",
    "# Sequence in FASTA file has to be > 20 nucleotides, so issue with primer function above\n",
    "\n",
    "#Define sequencePCRtemp\n",
    "def sequencePCRtemp(file):\n",
    "    \n",
    "    #Read input file\n",
    "    sequence = readDNAsequence(file)\n",
    "    \n",
    "    #Get forward and reverse primers\n",
    "    forward = primer(sequence, forward = True)\n",
    "    reverse = primer(sequence, forward = False)\n",
    "    \n",
    "    #Calculate melttemp for both primers\n",
    "    f_tm, r_tm = meltingTemp(forward), meltingTemp(reverse)\n",
    "    print(f_tm, r_tm)\n",
    "    \n",
    "    #Average, float() not really required, as python should produce a float from all division\n",
    "    avg_tm = float((f_tm + r_tm)/2)\n",
    "    \n",
    "    return avg_tm\n",
    "\n",
    "#sequencePCRtemp(\"dna.fa\")"
   ]
  },
  {
   "cell_type": "code",
   "execution_count": 1296,
   "metadata": {},
   "outputs": [
    {
     "name": "stdout",
     "output_type": "stream",
     "text": [
      "OK\n"
     ]
    }
   ],
   "source": [
    "# Test code\n",
    "import os\n",
    "with open(\"test9876346.fas\", \"wt\") as _OUTF:\n",
    "    _OUTF.write(\"> test\\n\")\n",
    "    _OUTF.write(\"AAAAACCCCCTTTTTGGGGGAAAAA\\n\")\n",
    "_temp=sequencePCRtemp(\"test9876346.fas\")\n",
    "assert type(_temp) is type(0.0), \"Return value is not a float: %r\" % _temp\n",
    "os.remove(\"test9876346.fas\")\n",
    "print(\"OK\")"
   ]
  },
  {
   "cell_type": "markdown",
   "metadata": {},
   "source": [
    "# Question 2: Translation and reading frames"
   ]
  },
  {
   "cell_type": "markdown",
   "metadata": {},
   "source": [
    "### Question 2.a: Reading frames\n",
    "Write a function ```translate``` that takes a string containing a DNA sequence as its input and outputs a Python dictionary containing the translation of the sequence in all possible reading frames. The keys of the dictionary should be ```f1```, ```f2```, ```f3``` for the three forward frames and ```r1```, ```r2``` and ```r3``` for the reverse reading frames; the value of each key should the translation of the sequence in the corresponding frame.\n",
    "For simplicity and ease of debugging, **do not complement the sequence** when computing the reverse reading frames; just reverse it. Use an asterisk (```*```) to represent stop codons."
   ]
  },
  {
   "cell_type": "code",
   "execution_count": 1295,
   "metadata": {},
   "outputs": [
    {
     "data": {
      "text/plain": [
       "{'f1': 'TD*LTD*L',\n",
       " 'f2': 'LTD*LTD',\n",
       " 'f3': '*LTD*LT',\n",
       " 'r1': 'VSQSVSQS',\n",
       " 'r2': 'SVSQSVS',\n",
       " 'r3': 'QSVSQSV'}"
      ]
     },
     "execution_count": 1295,
     "metadata": {},
     "output_type": "execute_result"
    }
   ],
   "source": [
    "#Translate\n",
    "#Takes a string of DNA\n",
    "#Outputs dictionary of translated DNA sequence in all 6 reading frames\n",
    "#Keys should be f1, f2, f3, r1, r2, r3\n",
    "#Don't complement the sequence, just reverse \n",
    "#Highlight stop codons with an *\n",
    "\n",
    "#Need Amino Acid dictionary to translate nucleotide codons\n",
    "#M is start, * is a stop\n",
    "\n",
    "aa_dict = { \n",
    "    'ATA':'I', 'ATC':'I', 'ATT':'I', 'ATG':'M', \n",
    "    'ACA':'T', 'ACC':'T', 'ACG':'T', 'ACT':'T', \n",
    "    'AAC':'N', 'AAT':'N', 'AAA':'K', 'AAG':'K', \n",
    "    'AGC':'S', 'AGT':'S', 'AGA':'R', 'AGG':'R',                  \n",
    "    'CTA':'L', 'CTC':'L', 'CTG':'L', 'CTT':'L', \n",
    "    'CCA':'P', 'CCC':'P', 'CCG':'P', 'CCT':'P', \n",
    "    'CAC':'H', 'CAT':'H', 'CAA':'Q', 'CAG':'Q', \n",
    "    'CGA':'R', 'CGC':'R', 'CGG':'R', 'CGT':'R', \n",
    "    'GTA':'V', 'GTC':'V', 'GTG':'V', 'GTT':'V', \n",
    "    'GCA':'A', 'GCC':'A', 'GCG':'A', 'GCT':'A', \n",
    "    'GAC':'D', 'GAT':'D', 'GAA':'E', 'GAG':'E', \n",
    "    'GGA':'G', 'GGC':'G', 'GGG':'G', 'GGT':'G', \n",
    "    'TCA':'S', 'TCC':'S', 'TCG':'S', 'TCT':'S', \n",
    "    'TTC':'F', 'TTT':'F', 'TTA':'L', 'TTG':'L', \n",
    "    'TAC':'Y', 'TAT':'Y', 'TAA':'*', 'TAG':'*', \n",
    "    'TGC':'C', 'TGT':'C', 'TGA':'*', 'TGG':'W', \n",
    "    } \n",
    "\n",
    "\n",
    "def translate(sequence):\n",
    "    \n",
    "    #First translate sequence \n",
    "    #sequence = sequence.replace(\"T\", \"U\")\n",
    "    \n",
    "    # Make Upper case\n",
    "    sequence = sequence.upper()\n",
    "    \n",
    "    #Check sequence is DNA\n",
    "    # (Would swap T for U in the string below)\n",
    "    for i in sequence:\n",
    "        if i not in \"ACGT\":\n",
    "            raise BadSequenceException(\"Input string must be DNA Nucleotides only, no special characters\")\n",
    "        \n",
    "    #Get length of sequence\n",
    "    length = len(sequence)\n",
    "        \n",
    "    #Define start position for reading frames\n",
    "    start_position = 0\n",
    "        \n",
    "    #Define reading frames, need to reduce the full length to avoid key errors\n",
    "    forward_1 = range(start_position, length - 2, 3)\n",
    "    forward_2 = range(start_position + 1, length - 2, 3)\n",
    "    forward_3 = range(start_position + 2, length - 2, 3)\n",
    "        \n",
    "    #Create empty dictionary for resulting proteins\n",
    "    reading_frame_dict = {}\n",
    "        \n",
    "    #reverse the sequence for reverse reading frames\n",
    "    rev_seq = sequence[::-1]\n",
    "        \n",
    "    #generate codon lists to transform into proteins\n",
    "    codons_f1 = [sequence[i:i+3] for i in forward_1]\n",
    "    codons_f2 = [sequence[i:i+3] for i in forward_2]\n",
    "    codons_f3 = [sequence[i:i+3] for i in forward_3]\n",
    "        \n",
    "    codons_r1 = [rev_seq[i:i+3] for i in forward_1]\n",
    "    codons_r2 = [rev_seq[i:i+3] for i in forward_2]\n",
    "    codons_r3 = [rev_seq[i:i+3] for i in forward_3]\n",
    "        \n",
    "        \n",
    "    #Add proteins to dictionary\n",
    "    reading_frame_dict[\"f1\"] = \"\".join([aa_dict[i] for i in codons_f1])\n",
    "    reading_frame_dict[\"f2\"] = \"\".join([aa_dict[i] for i in codons_f2])\n",
    "    reading_frame_dict[\"f3\"] = \"\".join([aa_dict[i] for i in codons_f3])\n",
    "    reading_frame_dict[\"r1\"] = \"\".join([aa_dict[i] for i in codons_r1])\n",
    "    reading_frame_dict[\"r2\"] = \"\".join([aa_dict[i] for i in codons_r2])\n",
    "    reading_frame_dict[\"r3\"] = \"\".join([aa_dict[i] for i in codons_r3])\n",
    "    \n",
    "        \n",
    "    return(reading_frame_dict)\n",
    "\n",
    "#translate(\"ACTGACTGACTGACTGACTGACTG\")"
   ]
  },
  {
   "cell_type": "code",
   "execution_count": 1291,
   "metadata": {},
   "outputs": [
    {
     "name": "stdout",
     "output_type": "stream",
     "text": [
      "OK\n"
     ]
    }
   ],
   "source": [
    "# Test code\n",
    "_seqdic=translate(\"ACTGACTGACTGACTGACTGACTG\")\n",
    "assert type(_seqdic)==type(dict()), \"Return value is not a dictionary: %r\" % _seqdic\n",
    "assert set(_seqdic.keys())==set(['f1', 'f2', 'f3', 'r1', 'r2', 'r3']), \\\n",
    "    \"Output dictionary has incorrect/missing keys: %r\"  % _seqdic.keys()\n",
    "assert type(_seqdic['f1'])==type(\"\"), \\\n",
    "    \"Output dictionary values should be strings, not %r\" % type(_seqdic['f1'])\n",
    "print(\"OK\")"
   ]
  },
  {
   "cell_type": "markdown",
   "metadata": {},
   "source": [
    "### Question 2.b: Locating an ORF\n",
    "\n",
    "Write a function called ```openReadingFrame``` that takes a string containing an aminoacid sequence as its argument and returns a string containing the aminoacids between the first Methionine (included) and the first STOP codon that follows it (excluded). Assume the stop codon is represented by an asterisk (```*```) as would be returned by ```translate``` above. If either the Methionine or the STOP codon are missing, your function should return an empty string."
   ]
  },
  {
   "cell_type": "code",
   "execution_count": 1290,
   "metadata": {},
   "outputs": [
    {
     "data": {
      "text/plain": [
       "'MCAPP'"
      ]
     },
     "execution_count": 1290,
     "metadata": {},
     "output_type": "execute_result"
    }
   ],
   "source": [
    "#ORF Finder\n",
    "#Input: string AA sequence\n",
    "#Output: String of AA's from first Meth (start) to first stop, EXCLUSIVE\n",
    "#If no Meth or stop, return an empty string\n",
    "\n",
    "# Example: openReadingFrame(\"AMCAPP*L\") (Stop codons are represented by *)\n",
    "\n",
    "#define function\n",
    "def openReadingFrame(aminoacids):\n",
    "    \n",
    "    #define start and stop codon symbols\n",
    "    start = \"M\"\n",
    "    stop = \"*\"\n",
    "    \n",
    "    #If a start codon is present, assign it's index to a variable\n",
    "    if aminoacids.find(start, 0) or aminoacids.startswith(start, 0):\n",
    "        startindex = aminoacids.find(start, 0)\n",
    "    \n",
    "    #If no start codon, return empty string\n",
    "        if startindex == -1:\n",
    "            return \"\"\n",
    "    \n",
    "    #If a stop codon is present, assign its index to a variable\n",
    "    if aminoacids.find(stop, 0):\n",
    "        stopindex = aminoacids.find(stop, 0)\n",
    "        \n",
    "    \n",
    "    #if no stop codon, return empty string\n",
    "        if stopindex == -1:\n",
    "            return \"\"\n",
    "    \n",
    "    #return string of aminoacids from start (Inclusive) to stop (exculsive)\n",
    "    return aminoacids[startindex:stopindex]\n",
    "\n",
    "#openReadingFrame(\"AMCAPP*L\")"
   ]
  },
  {
   "cell_type": "code",
   "execution_count": 649,
   "metadata": {},
   "outputs": [
    {
     "name": "stdout",
     "output_type": "stream",
     "text": [
      "OK\n"
     ]
    }
   ],
   "source": [
    "# Test code\n",
    "_seq=openReadingFrame(\"AMCAPP*L\")\n",
    "assert type(_seq) is type(\"\"), \"Return value is not a string: %r\" % _seq\n",
    "print(\"OK\")"
   ]
  },
  {
   "cell_type": "markdown",
   "metadata": {},
   "source": [
    "### Question 2.c: Translating a sequence\n",
    "\n",
    "Write a function called ```candidateProtein``` that takes a string containing a DNA sequence as its input and outputs the string of aminoacids corresponding to the longest ORF, as extracted by ```openReadingFrame``` above."
   ]
  },
  {
   "cell_type": "code",
   "execution_count": 1288,
   "metadata": {},
   "outputs": [],
   "source": [
    "#Translating a sequence\n",
    "#Take DNA string input\n",
    "#output: String of aminoacids corresponding to the longest ORF\n",
    "\n",
    "# Example: candidateProtein(\"ATGACTGACTGACTGTAGACTGACTGACTG\")\n",
    "\n",
    "#Define function\n",
    "def candidateProtein(sequence):\n",
    "    \n",
    "    # Make uppercase\n",
    "    sequence = sequence.upper()\n",
    "    \n",
    "    # Check sequence is DNA\n",
    "    for i in sequence:\n",
    "        if i not in \"ACGT\":\n",
    "            raise BadSequenceException(\"Input string must be DNA Nucleotides only, no special characters\")\n",
    "    \n",
    "    #translate all reading frames\n",
    "    reading_frames = translate(sequence)\n",
    "    \n",
    "    #Use list comprehensions to find ORF\n",
    "    orf = [openReadingFrame(reading_frames[k]) for k in reading_frames]\n",
    "    \n",
    "    #Return the largest of the ORF's\n",
    "    return(max(orf))"
   ]
  },
  {
   "cell_type": "code",
   "execution_count": 1289,
   "metadata": {},
   "outputs": [
    {
     "name": "stdout",
     "output_type": "stream",
     "text": [
      "OK\n"
     ]
    }
   ],
   "source": [
    "# Test code\n",
    "_seq=candidateProtein(\"ATGACTGCTGGGTAG\")\n",
    "assert type(_seq) is type(\"\"), \"Return value is not a string: %r\" % _seq\n",
    "print(\"OK\")"
   ]
  },
  {
   "cell_type": "markdown",
   "metadata": {},
   "source": [
    "### Question 2.d: Writing a FASTA file\n",
    "\n",
    "Write a function called ```writeFASTA``` that takes three string arguments called, in the order, ```sequence```, ```description``` and ```filename```. Argument ```sequence``` should contain an aminoacid sequence. Argument ```description``` should contain a description (eg name of protein, organism, etc). Argument ```filename``` should contain a file name. Your code should create the file with the name requested, write to  it the description as a FASTA header (i.e. starting with the character ```>```) and write the sequence to the file. Long sequences should be formatted over several lines. The function should not return any value."
   ]
  },
  {
   "cell_type": "code",
   "execution_count": 1282,
   "metadata": {},
   "outputs": [],
   "source": [
    "# Write a FASTA file\n",
    "# Takes sequence: AA sequence, description : description of sequence, filename: a file name\n",
    "# Code creates the file, with the required name, write description as a fasta header >, write sequence to the file\n",
    "# Long sequences should be newline formatted\n",
    "# Don't return any value, just create the file\n",
    "\n",
    "# Example: writeFASTA(\"GALMFWKQESCYHRNDTPVI\", \"Protein_name\", \"AA_file.fa\")\n",
    "\n",
    "# Define Function\n",
    "def writeFASTA(sequence, description, filename):\n",
    "    \n",
    "    # Create file in write mode\n",
    "    file =  open(filename, \"w\")\n",
    "    \n",
    "    # Write header as description, newline \n",
    "    file.write(\">\" + description + \"\\n\")\n",
    "    \n",
    "    # Make uppercase\n",
    "    sequence = sequence.upper()\n",
    "    \n",
    "    # Check sequence is AA \n",
    "    for i in sequence:\n",
    "        if i not in \"GALMFWKQESCYHRNDTPVI\":\n",
    "            raise BadSequenceException(\"Input string must be amino acid one character codes only, no special characters\")\n",
    "    \n",
    "    # Line formatting for sequence\n",
    "    length = len(sequence)\n",
    "    for i in range(0, length, 40):\n",
    "        \n",
    "        # Write chunks of sequence to file, followed by newline\n",
    "        file.write(sequence[i:i+40]+ \"\\n\")\n",
    "        \n",
    "    # Close file when done\n",
    "    file.close()"
   ]
  },
  {
   "cell_type": "code",
   "execution_count": 1276,
   "metadata": {},
   "outputs": [
    {
     "name": "stdout",
     "output_type": "stream",
     "text": [
      "OK\n"
     ]
    }
   ],
   "source": [
    "# Test code\n",
    "import os\n",
    "import os.path\n",
    "_rv=writeFASTA(sequence=\"TESTTESTTESTTESTTEST\",\n",
    "              description=\"test sequence\",\n",
    "              filename=\"test9876347.fas\")\n",
    "assert type(_rv) is type(None), \"Function should not return anything; it returns %r\" % _rv\n",
    "_fe=os.path.isfile(\"test9876347.fas\")\n",
    "assert _fe, \"Cannot find output file - has it been created?\"\n",
    "os.remove(\"test9876347.fas\")\n",
    "print(\"OK\")"
   ]
  },
  {
   "cell_type": "markdown",
   "metadata": {},
   "source": [
    "### Question 2.e: Putting it all together\n",
    "\n",
    "\n",
    "Write a function called ```maximalORF``` that takes as its argument string ```inputfile``` containing the name of an input file, string ```outputfile``` with the name of an output file and string  ```proteinname``` with a description of a candidate protein. The function should read a DNA sequence from the input file and write the candidate protein corresponding to the longest ORF to the output file, in FASTA format. The string supplied in ```proteinname``` should provide the header of the FASTA file. The function should not return any value."
   ]
  },
  {
   "cell_type": "code",
   "execution_count": 1277,
   "metadata": {},
   "outputs": [],
   "source": [
    "# Maximal ORF\n",
    "# Input: argument string inputfile, name of a file\n",
    "# Output: argument string outputfile, name of the file\n",
    "# Takes proteinname as argument, description of protein \n",
    "# Function reads dna sequence from the input file, finds the longest ORF and writes to the output, as fasta\n",
    "# proteinname should provide the header to the FASTA file\n",
    "# Shouldn't return any value\n",
    "\n",
    "# Example: maximalORF(\"dna.fa\", \"long_orf\", \"Fasta header\")\n",
    "\n",
    "# Define function\n",
    "def maximalORF(inputfile, outputfile, proteinname):\n",
    "    \n",
    "    # Open file with context manager\n",
    "    with open(inputfile, \"r\") as infile:\n",
    "    \n",
    "        # Send header and sequence to empty lists\n",
    "        header = []\n",
    "        sequence = []\n",
    "        \n",
    "        # Seperate header and sequence\n",
    "        for line in infile:\n",
    "            if line.startswith(\">\"):\n",
    "                header = line\n",
    "            else:\n",
    "                sequence += line\n",
    "                \n",
    "        # Join list to form string\n",
    "        sequence = \"\".join(sequence)\n",
    "        \n",
    "        # Tidy newlines\n",
    "        sequence = sequence.replace(\"\\n\", \"\")\n",
    "        \n",
    "        #Find longest ORF\n",
    "        longorf = candidateProtein(sequence)\n",
    "   \n",
    "    # Write to new file\n",
    "    writeFASTA(longorf, proteinname, outputfile)\n"
   ]
  },
  {
   "cell_type": "code",
   "execution_count": 1278,
   "metadata": {},
   "outputs": [
    {
     "name": "stdout",
     "output_type": "stream",
     "text": [
      "OK\n"
     ]
    }
   ],
   "source": [
    "# Test code\n",
    "import os\n",
    "import os.path\n",
    "with open(\"test9876348.fas\", \"wt\") as _OUTF:\n",
    "    _OUTF.write(\"> test\\n\")\n",
    "    _OUTF.write(\"ATGACTGCTGGGTAG\\n\")\n",
    "_rv=maximalORF(inputfile=\"test9876348.fas\", outputfile=\"test9876349.fas\",\n",
    "               proteinname=\"test protein\")\n",
    "assert type(_rv) is type(None), \"Function should not return anything; it returns %r\" % _rv\n",
    "_fe=os.path.isfile(\"test9876349.fas\")\n",
    "assert _fe, \"Cannot find output file - has it been created?\"\n",
    "os.remove(\"test9876348.fas\")\n",
    "os.remove(\"test9876349.fas\")\n",
    "print(\"OK\")"
   ]
  },
  {
   "cell_type": "markdown",
   "metadata": {},
   "source": [
    "# Question 3: Classification of aminoacids"
   ]
  },
  {
   "cell_type": "markdown",
   "metadata": {},
   "source": [
    "### Question 3.a: Reading an aminoacid sequence\n",
    "\n",
    "Write a function called ```readAAsequence``` that takes as its argument the name of a file.  When passed the name of a FASTA file containing an aminoacid sequence, the function should read the file, discard the header and return the sequence as a string."
   ]
  },
  {
   "cell_type": "code",
   "execution_count": 1266,
   "metadata": {},
   "outputs": [],
   "source": [
    "# readAAsequence\n",
    "# Input argument: filename \n",
    "# Takes file with AA sequence, function reads the file, discards the header, returns sequence as a string\n",
    "\n",
    "# Need to add a way to catch non-fasta files\n",
    "\n",
    "#Example: readAAsequence(\"AA.fa\")\n",
    "\n",
    "# Define function(args)\n",
    "def readAAsequence(inputfile):\n",
    "    \n",
    "    # Open file with context manager\n",
    "    with open(inputfile, \"r\") as infile:\n",
    "        \n",
    "        # Define empty lists for header and sequence values\n",
    "        header = []\n",
    "        sequence = []\n",
    "        \n",
    "        first_line = infile.readline().strip()\n",
    "        if first_line.startswith(\">\"):\n",
    "            pass\n",
    "        else:\n",
    "            raise BadSequenceException(\"\"\"File doesn't seem to be in FASTA format, the FASTA header should start with a >\n",
    "            > FASTA HEADER\n",
    "            SEQUENCEINFORMATION\n",
    "            \"\"\")\n",
    "        \n",
    "        # Find header, sequence\n",
    "        for line in infile:\n",
    "            if line.startswith(\">\"):\n",
    "                header = line\n",
    "            else:\n",
    "                sequence += line\n",
    "        \n",
    "        # Turn list into single string\n",
    "        sequence = \"\".join(sequence)\n",
    "        \n",
    "        # Tidy up newlines\n",
    "        sequence = sequence.replace(\"\\n\", \"\")\n",
    "        \n",
    "        # Return AA sequence\n",
    "        return sequence"
   ]
  },
  {
   "cell_type": "code",
   "execution_count": 1267,
   "metadata": {},
   "outputs": [
    {
     "name": "stdout",
     "output_type": "stream",
     "text": [
      "OK\n"
     ]
    }
   ],
   "source": [
    "# Test code\n",
    "import os\n",
    "with open(\"test9876350.fas\", \"wt\") as _OUTF:\n",
    "    _OUTF.write(\"> test\\n\")\n",
    "    _OUTF.write(\"TESTTESTTESTTESTTEST\\n\")\n",
    "_seq=readAAsequence(\"test9876350.fas\")\n",
    "os.remove(\"test9876350.fas\")\n",
    "assert type(_seq) is type(\"\"), \"Return value is not a string: %r\" % _seq\n",
    "print (\"OK\")"
   ]
  },
  {
   "cell_type": "markdown",
   "metadata": {},
   "source": [
    "### Question 3.b: Aminoacid usage statistics\n",
    "\n",
    "Write a function called ```AAtypes``` that takes as its argument a string containing a sequence of aminoacids. The function should compute, for each protein, the fraction of aminoacids that are polar, small and hydrophobic and return that as a list. For instance, if the chain of a protein contains 35% polar residues, 15% small and 50% hydrophobic residues, the function should return ```[0.35, 0.15, 0.5]``` (the order is important). Refer to the Venn diagram in the Assessment Background file for the classification of aminoacids.  Note that some aminoacids belong to more than one category, so that the sum of these three numbers can be larger than 1."
   ]
  },
  {
   "cell_type": "code",
   "execution_count": 1249,
   "metadata": {},
   "outputs": [],
   "source": [
    "# AAtypes\n",
    "# Args : string of AA\n",
    "# Compute the number of aminoacids that are POLAR, SMALL, HYDROPHOBIC in that order\n",
    "\n",
    "# Example: AAtypes(\"GALMFWKQESCYHRNDTPVI\")\n",
    "# Other characters than above will produce a Bad Sequence Exception\n",
    "# (Case-insensitive)\n",
    "\n",
    "# Define function(arg)\n",
    "def AAtypes(aaseq):\n",
    "    \n",
    "    # Ensure Upper, this is more for downstream analysis\n",
    "    aaseq = aaseq.upper()\n",
    "    \n",
    "    # Ensure characters are aminoacids\n",
    "    for i in aaseq:\n",
    "        if i not in \"GALMFWKQESCYHRNDTPVI\":\n",
    "            raise BadSequenceException(\"Input string must be amino acid one character codes only, no special characters\")\n",
    "    \n",
    "    # Define which AA's are polar, small, hydrophobic\n",
    "    polar = \"YWHKREDTSCNQ\"\n",
    "    small = \"VCGSTAP\"\n",
    "    hydrophobic = \"FYWHKMCTAILV\"\n",
    "    \n",
    "    # Counts for the properties\n",
    "    polar_aa = 0\n",
    "    small_aa = 0\n",
    "    hydrophobic_aa = 0\n",
    "    \n",
    "    # Iterate through, adding to the counts\n",
    "    for i in aaseq:\n",
    "        if i in polar:\n",
    "            polar_aa += 1\n",
    "        if i in small:\n",
    "            small_aa += 1\n",
    "        if i in hydrophobic:\n",
    "            hydrophobic_aa += 1\n",
    "    \n",
    "    # String the counts\n",
    "    aa_string = (polar_aa, small_aa, hydrophobic_aa)\n",
    "    \n",
    "    # Get length of sequence\n",
    "    length = len(aaseq)\n",
    "    \n",
    "    # Work out % of sequence\n",
    "    aa_percent = (polar_aa/length, small_aa/ length, hydrophobic_aa/ length) \n",
    "    \n",
    "    # Output as a list\n",
    "    aa_list = list(aa_percent)\n",
    "\n",
    "    # Return output\n",
    "    return aa_list\n",
    "    "
   ]
  },
  {
   "cell_type": "code",
   "execution_count": 1250,
   "metadata": {},
   "outputs": [
    {
     "name": "stdout",
     "output_type": "stream",
     "text": [
      "OK\n"
     ]
    }
   ],
   "source": [
    "# Test code\n",
    "_aatypes=AAtypes(\"TESTTESTTESTTESTTEST\")\n",
    "assert type(_aatypes) is type([]), \"Return value is not a list: %r\" % _aatypes\n",
    "assert len(_aatypes)==3, \"Returned list should contain 3 values\"\n",
    "print(\"OK\")"
   ]
  },
  {
   "cell_type": "markdown",
   "metadata": {},
   "source": [
    "### Question 3.c: Processing multiple sequences\n",
    "Write a function called ```AAtypetable``` that takes a list of strings called ```filelist``` and a separate string called ```outputfile```. Each element of ```filelist``` represents the name of a FASTA file containing an aminoacid sequence. For each filename, the function should load the sequence, compute the fraction of aminoacids that are polar, small and/or hydrophobic, and finally output this to the text file specified by ```outputfile``` in TSV (tab-separated values) tabular format. The table should contain, on each line, the name of the input file and then the percentages of polar, small and hydrophobic residues (in that order). Include a comment at the beginning of the file that starts with a ```#``` and specifies the content of each column, as follows (numbers shown here are random):\n",
    "```\n",
    "# Filename     Polar     Small     Hydro\n",
    "Pxxx.fas       0.52      0.22        0.33\n",
    "Pyyy.fas       0.47      0.35        0.38\n",
    "...\n",
    "```\n",
    "\n",
    "Include at least two decimal places in your output. Do not worry if the columns do not all look aligned; as long as consecutive values on the same line are separated by a tab, that's fine. If some of the files in ```filelist``` do not exist, contain the wrong data or otherwise generate an error, your function should ignore those files and continue. However, the names of those files should be returned in an output lists. If all files are processed without errors your function should return an empty list.\n"
   ]
  },
  {
   "cell_type": "code",
   "execution_count": 1243,
   "metadata": {},
   "outputs": [
    {
     "data": {
      "text/plain": [
       "[]"
      ]
     },
     "execution_count": 1243,
     "metadata": {},
     "output_type": "execute_result"
    }
   ],
   "source": [
    "# AAtypetable\n",
    "# Input: List of strings called filelist, outputfile\n",
    "# Each string in list filelist = the name of a fasta file with an AA sequence\n",
    "# For each filename, load the sequence, compute the fractions of AA's which are polar, small, hydrophobic\n",
    "# Output to outputfile as TSV\n",
    "# Include a # for the column headers\n",
    "# 2 D.P.\n",
    "\n",
    "# Example: AAtypetable([\"AA_1.fa\", \"AA_2.fa\"], \"output\")\n",
    "\n",
    "# Define function (Args)\n",
    "def AAtypetable(filelist, outputfile):   \n",
    "    \n",
    "    # Create file in write mode\n",
    "    file =  open(outputfile, \"w\")\n",
    "        \n",
    "    # Write column titles, tab-seperated, newline\n",
    "    file.write(\"#\" + \"Filename\" + \"\\t\"+ \"Polar\" + \"\\t\" + \"Small\" + \"\\t\" + \"Hydrophobic\" + \"\\n\")\n",
    "    \n",
    "    # Define count and problem files list\n",
    "    count = 0\n",
    "    problem_files = []\n",
    "    \n",
    "    # Loop through list of filenames\n",
    "    for i in filelist:\n",
    "            \n",
    "            #Try code\n",
    "            try:\n",
    "                \n",
    "                # Assign variables to iterate through list\n",
    "                filename = filelist[count]\n",
    "                \n",
    "                # Assign variables using prior function\n",
    "                sequence = readAAsequence(i)\n",
    "                \n",
    "                polar, small, hydrophobic = AAtypes(sequence)\n",
    "                \n",
    "                # Format to output using string formatting\n",
    "                sequence = (\"{}\" + \"\\t\" + \"{}\" + \"\\t\" + \"{}\" + \"\\t\" + \"{}\" + \"\\n\").format(filename, polar, small, hydrophobic)\n",
    "                \n",
    "                # Write to output file\n",
    "                file.write(sequence)\n",
    "                \n",
    "                # Increase the count to move to next iterable in list\n",
    "                count += 1\n",
    "            \n",
    "            # Except problem files, empty, blank\n",
    "            except:\n",
    "                \n",
    "                # Put problem files in empty list\n",
    "                problem_files.append(i)\n",
    "            \n",
    "    # Close file when done\n",
    "    file.close()\n",
    "    \n",
    "    # Return list of problem files, or empty list if all successful\n",
    "    return problem_files"
   ]
  },
  {
   "cell_type": "code",
   "execution_count": 1231,
   "metadata": {},
   "outputs": [
    {
     "name": "stdout",
     "output_type": "stream",
     "text": [
      "OK\n"
     ]
    }
   ],
   "source": [
    "# Test code\n",
    "import os\n",
    "import os.path\n",
    "for fname in [\"_Ptest123.fas\", \"_Ptest456.fas\"]:\n",
    "    with open(fname, \"wt\") as _OUTF:\n",
    "        _OUTF.write(\"> test\\n\")\n",
    "        _OUTF.write(\"TESTTESTTESTTESTTEST\\n\")\n",
    "_rv=AAtypetable(filelist=['_Ptest123.fas','_Ptest456.fas'], outputfile=\"_table_test789.txt\")\n",
    "_fe=os.path.isfile(\"_table_test789.txt\")\n",
    "assert _fe, \"Cannot find output file - has it been created?\"\n",
    "os.remove(\"_table_test789.txt\")\n",
    "os.remove(\"_Ptest123.fas\")\n",
    "os.remove(\"_Ptest456.fas\")\n",
    "assert type(_rv) is type([]), \"Function should return a list; it returns %r\" % _rv\n",
    "print(\"OK\")"
   ]
  },
  {
   "cell_type": "markdown",
   "metadata": {},
   "source": [
    "# Question 4: Clustering proteins based on aminoacid usage"
   ]
  },
  {
   "cell_type": "markdown",
   "metadata": {},
   "source": [
    "### Question 4.a: Computing the Euclidean distance"
   ]
  },
  {
   "cell_type": "markdown",
   "metadata": {},
   "source": [
    "Write a function called ```distance``` that takes two lists of ```float``` of equal length as its arguments. The function should return the Euclidean distance between the two lists, considered as vectors in a space of dimensionality equal to the length of the lists. That is to say, it should compute the element by element difference between the two lists, square that, sum all the squares and take a square root of the final sum (see the equation [here](https://en.wikipedia.org/wiki/Euclidean_distance#Higher_dimensions)). Your function should raise a ```DimensionalityException``` if the two lists passed are not of the same length, or if they are both empty; otherwise it should return a ```float```."
   ]
  },
  {
   "cell_type": "code",
   "execution_count": 1227,
   "metadata": {},
   "outputs": [],
   "source": [
    "# Run this cell to define the exception\n",
    "class DimensionalityException(Exception):\n",
    "    pass"
   ]
  },
  {
   "cell_type": "code",
   "execution_count": 1228,
   "metadata": {},
   "outputs": [],
   "source": [
    "# Distance\n",
    "# Input: Two lists of floats of equal length\n",
    "# Output: Euclidean distance between the two lists, considered as vectors, equal to the length of the lists\n",
    "# Compute element by element difference, square, sum the squares, take square root\n",
    "# Raise a Dimensionality exception if two lists are unequal lengths, or both empty\n",
    "# Return a float\n",
    "\n",
    "# Example: values = [1, 2, 3, 4, 5]\n",
    "# Example: list_1 = [float(i) for i in values]\n",
    "# Example: list_2 = [float(i) for i in values]\n",
    "# Example: distance(list_1, list_2)\n",
    "\n",
    "# Define function\n",
    "def distance(list1, list2):\n",
    "    \n",
    "    # Check for length match\n",
    "    if len(list1) != len(list2):\n",
    "        raise DimensionalityException(\"Lists have to be same length\")\n",
    "    \n",
    "    # Check for empty list\n",
    "    if len(list1) == 0:\n",
    "        raise DimensionalityException(\"Lists cannot be empty\")\n",
    "    \n",
    "    # Zip two lists together\n",
    "    zipped = zip(list1, list2)\n",
    "    \n",
    "    # Work out difference, absolute value fine, as will be squaring\n",
    "    # Could write as sqrt(sum((a-b)**2)) but for clarity:\n",
    "    diff = [a - b for a,b in zipped]\n",
    "    \n",
    "    # Square values\n",
    "    square = [a **2 for a in diff]\n",
    "    \n",
    "    # Sum squares\n",
    "    summed = sum(square)\n",
    "    \n",
    "    # Square root using math from standard library\n",
    "    sqrt = math.sqrt(summed)\n",
    "    \n",
    "    # Return sqrt value as a float\n",
    "    return sqrt"
   ]
  },
  {
   "cell_type": "code",
   "execution_count": 1229,
   "metadata": {},
   "outputs": [
    {
     "name": "stdout",
     "output_type": "stream",
     "text": [
      "OK\n"
     ]
    }
   ],
   "source": [
    "# Test code\n",
    "_dist=distance([1.0, 2.0], [1.5, -1.0])\n",
    "assert type(_dist) is type(0.0), \"Return value is not a float: %r\" % _dist\n",
    "print(\"OK\")"
   ]
  },
  {
   "cell_type": "markdown",
   "metadata": {},
   "source": [
    "### Question 4.b: Reading data in tabular format\n",
    "\n",
    "Write a function called ```readTable``` that takes a string called ```filename``` as its argument. The function should read from the file specified in the argument a TSV table formatted as described at the end of Question 3 (you do not necessarily have to answer Question 3 in order to do this; you can create one such table containing arbitrary values using an editor). The function should return a dictionary with the filenames as its keys; the value associated to each key should be a list of floats, containing in order the percentages of polar, small and hydrophobic AAs, as listed in the table. So for instance, if the argument file contains the table used as an example in Question 3, ```readTable``` should return a dictionary containing at least the following items: \n",
    "```\n",
    "{ \"Pxxx.fas\": [0.52, 0.22, 0.33],  \"Pyyy.fas\": [0.47, 0.35, 0.38],\n",
    "...}\n",
    "```\n"
   ]
  },
  {
   "cell_type": "code",
   "execution_count": 1225,
   "metadata": {},
   "outputs": [
    {
     "data": {
      "text/plain": [
       "{'untitled.txt': [0.45161290322580644, 0.6451612903225806, 0.6774193548387096],\n",
       " 'untitled1.txt': [0.633333333333334, 0.2666666666666666, 0.7916666666666666],\n",
       " 'untitled2.txt': [0.7833333333333334, 0.3666666666666666, 0.8916666666666666],\n",
       " 'untitled3.txt': [0.8833333333333334, 0.4666666666666666, 0.9916666666666666],\n",
       " 'untitled4.txt': [0.9833333333333334, 0.5666666666666667, 0.5916666666666666]}"
      ]
     },
     "execution_count": 1225,
     "metadata": {},
     "output_type": "execute_result"
    }
   ],
   "source": [
    "# Readtable(filename)\n",
    "\n",
    "# Takes a specified TSV format file \n",
    "# Function should return a dict with the file names as keys\n",
    "# Values should be a list of floats containing the Polar Small and Hydrophobic AA %'s\n",
    "\n",
    "# Example: readTable(\"inputfile\")\n",
    "\n",
    "# Define function(Arguments)\n",
    "def readTable(filename):\n",
    "    \n",
    "    # Define dictionary for filename keys and list of floats\n",
    "    aa_dict = {}\n",
    "    \n",
    "    # Open file with context manager\n",
    "    with open(filename, \"r\") as infile:\n",
    "        \n",
    "        # loop through lines in file\n",
    "        for line in infile:\n",
    "            \n",
    "            # Seperate column titles\n",
    "            if line.startswith(\"#\"):\n",
    "                pass\n",
    "            \n",
    "            # Split lines, to seperate keys from values\n",
    "            else: \n",
    "                lines = line.split()\n",
    "                \n",
    "                # Keys are the first string in the file\n",
    "                keys = lines[0]\n",
    "                \n",
    "                # Values are the following strings, could do [1:], but if any extra values after the \n",
    "                # amino acid %'s, might not be good to receive them too for downstream\n",
    "                values = lines[1:4]\n",
    "                \n",
    "                # Turn values into floats, could specify dp with something like %.2f\n",
    "                values = [float(i) for i in values]\n",
    "                \n",
    "                # Populate dictionary with keys and values\n",
    "                aa_dict[keys] = values\n",
    "                \n",
    "    return(aa_dict)"
   ]
  },
  {
   "cell_type": "code",
   "execution_count": 404,
   "metadata": {},
   "outputs": [
    {
     "name": "stdout",
     "output_type": "stream",
     "text": [
      "OK\n"
     ]
    }
   ],
   "source": [
    "# Test code\n",
    "import os\n",
    "with open(\"_testTable123.tsv\", \"wt\") as OUTF:\n",
    "    OUTF.write(\"# Filename\\tPolar\\tSmall\\tHydro\\n\")\n",
    "    OUTF.write(\"Pxxx.fas\\t0.52\\t0.22\\t0.33\\n\")\n",
    "    OUTF.write(\"Pyyy.fas\\t0.47\\t0.35\\t0.38\\n\")\n",
    "_tab=readTable(filename=\"_testTable123.tsv\")\n",
    "assert type(_tab) is type({}), \"Return value is not a dict: %r\" % _tab\n",
    "assert (\"Pxxx.fas\" in _tab) and (\"Pyyy.fas\" in _tab), \"Return dict missing keys\"\n",
    "os.remove(\"_testTable123.tsv\")\n",
    "print(\"OK\")"
   ]
  },
  {
   "cell_type": "markdown",
   "metadata": {},
   "source": [
    "### Question 4.c: Computing a distance matrix\n",
    "\n",
    "Write a function called ```distanceMatrix``` that takes as its argument two strings called ```inputfile``` and ```outputfile```, used to pass the names of the input and output file. The function should read from the input file a TSV table created as specified at the end of Question 3 (again, you do not necessarily have to answer Question 3 in order to do this; you can create a table with made-up data using an editor). Suppose data for N proteins are read. Your function should then create an output TSV file containing a matrix of size NxN (plus one row and one column for labels). The rows and columns of the matrix should correspond to individual protein file names, so that each matrix entry corresponds to a pair of proteins, say Pxxx and Pyyy. Such entry should contain the distance between the ```[polar, small, hydro]``` lists (considered as 3 dimensional vectors) corresponding to Pxxx and Pyyy. If done correctly, your matrix should be symmetric and have zeroes on the diagonal. Format the matrix with row and column labels as in the following 3-protein example (that contains random numbers):\n",
    "```\n",
    "# Filename      Pxxx.fas  Pyyy.fas  Pzzz.fas\n",
    "Pxxx.fas        0.0       2.3       1.5\n",
    "Pyyy.fas        2.3       0.0       1.8 \n",
    "Pzzz.fas        1.5       1.8       0.0\n",
    "\n",
    "```\n",
    "The exact alignment is not important, as long as the data are separated by tabs and the first line starts with a hash (```#```). Likewise, the order in which the proteins are listed is not important, provided the same order is used along the rows and along the columns. Your function should not return any value."
   ]
  },
  {
   "cell_type": "code",
   "execution_count": 1221,
   "metadata": {},
   "outputs": [],
   "source": [
    "# distanceMatrix(inputfile, outputfile)\n",
    "# Function reads input file, creates matrix of size NxN where N = number of proteins in inputfile\n",
    "# (+ 1 row and column for labels)\n",
    "# Rows and columns should equal protein file names, so each matrix entry = a pair of proteins\n",
    "# The entry should correspond to the distance between the lists, considered as 3 dimensional vectors\n",
    "# Could be symmetrical and have 0's on the diagonals\n",
    "# no return value\n",
    "\n",
    "#Might be easier to use pandas or something similar, but not sure what is avaliable from the std library\n",
    "\n",
    "# Example: distanceMatrix(\"inputfile\", \"outputfile\")\n",
    "\n",
    "# Define function\n",
    "def distanceMatrix(inputfile, outputfile):\n",
    "    \n",
    "    # Create file in write mode\n",
    "    newfile =  open(outputfile, \"w\")\n",
    "    \n",
    "    # Open file with context manager\n",
    "    with open(inputfile, \"r\") as infile:\n",
    "       \n",
    "        keylist = []\n",
    "        valuelist = []\n",
    "        \n",
    "        # loop through lines in file\n",
    "        for line in infile:\n",
    "            \n",
    "            # Seperate column titles\n",
    "            if line.startswith(\"#\"):\n",
    "                pass\n",
    "                \n",
    "            # Split lines, to seperate keys from values\n",
    "            else: \n",
    "                lines = line.split()\n",
    "                \n",
    "                # Keys are the first string in the file\n",
    "                keys = lines[0]\n",
    "                keylist += [keys]\n",
    "                \n",
    "                # Values are the following strings, could do [1:], but if any extra values after the \n",
    "                # amino acid %'s, might not be good to receive them too for downstream\n",
    "                values = lines[1:4]\n",
    "                \n",
    "                # Turn values into floats, could specify dp with something like %.2f\n",
    "                values = [float(i) for i in values]\n",
    "                valuelist += [values]\n",
    "    \n",
    "    #File names\n",
    "    keystring = \"\\t\".join(keylist)\n",
    "    \n",
    "    #Produce column headers\n",
    "    column_heads = (\"#\" + \"Filename\" + \"\\t\" + \"{}\").format(keystring)\n",
    "    \n",
    "    #write column heads\n",
    "    newfile.write(column_heads)\n",
    "    \n",
    "    #Get number of files to use\n",
    "    count = len(keylist)\n",
    "       \n",
    "    #Rows should be in this format, newline from column heads, file, tab, variable number of results to populate \"matrix\"\n",
    "    rows = (\"\\n\" + \"{}\" + \"\\t\" + \"{}\" + \"\\t\")\n",
    "\n",
    "    # Store results outside of for loop\n",
    "    row_pop = []\n",
    "    \n",
    "    # loop through a loop to calculate all combinations of values, aa, ab, ac..., ba, bb, bc ...\n",
    "    for i in range(0, count, 1):\n",
    "        for n in range(0, count, 1):\n",
    "            \n",
    "            # Calculates distances for each combination of values\n",
    "            # This works as intended, but float objects\n",
    "            row_pop += [distance(valuelist[i], valuelist[n])]    \n",
    "    \n",
    "    # Could just use count, but clearer to read this way\n",
    "    n = count\n",
    "    \n",
    "    # Can split row pop into chunks, could float then input into rows\n",
    "    # If I tab seperate here, I can't call row_chunks[index] later\n",
    "    row_chunks = [row_pop[i:i + n] for i in range(0, count**2, n)]\n",
    "    \n",
    "    # If I tab seperate here, I seperate the titles too\n",
    "    for i in range(0, count):\n",
    "        row_values = rows.format(keylist[i], row_chunks[i])\n",
    "\n",
    "        # Split the list\n",
    "        splitted = row_values.split(\" \")\n",
    "        \n",
    "        # Rejoin with tabs\n",
    "        tab_join = (\"\\t\".join(splitted))\n",
    "        \n",
    "        # Clean away the [] from the old list\n",
    "        clean = str(tab_join).replace('[','').replace(']','')\n",
    "        \n",
    "        # Write to newfile\n",
    "        newfile.write(clean)\n"
   ]
  },
  {
   "cell_type": "code",
   "execution_count": 1222,
   "metadata": {},
   "outputs": [
    {
     "name": "stdout",
     "output_type": "stream",
     "text": [
      "OK\n"
     ]
    }
   ],
   "source": [
    "# Test code\n",
    "import os\n",
    "import os.path\n",
    "with open(\"_testTable123.tsv\", \"wt\") as OUTF:\n",
    "    OUTF.write(\"# Filename\\tPolar\\tSmall\\tHydro\\n\")\n",
    "    OUTF.write(\"Pxxx.fas\\t0.52\\t0.22\\t0.33\\n\")\n",
    "    OUTF.write(\"Pyyy.fas\\t0.47\\t0.35\\t0.38\\n\")\n",
    "_rv=distanceMatrix(inputfile=\"_testTable123.tsv\", outputfile=\"_testTable123out.tsv\")\n",
    "_fe=os.path.isfile(\"_testTable123out.tsv\")\n",
    "assert _fe, \"Cannot find output file - has it been created?\"\n",
    "with open(\"_testTable123out.tsv\", \"rt\") as INF:\n",
    "    _fl=INF.readline()\n",
    "assert _fl[0]=='#', \"First line of output file does not start with a #\"\n",
    "os.remove(\"_testTable123.tsv\")\n",
    "os.remove(\"_testTable123out.tsv\")\n",
    "assert type(_rv) is type(None),\"Function should not return any value; it returns %r\" % _rv\n",
    "print(\"OK\")"
   ]
  },
  {
   "cell_type": "markdown",
   "metadata": {},
   "source": [
    "### An application of this type of analysis"
   ]
  },
  {
   "cell_type": "markdown",
   "metadata": {},
   "source": [
    "Now that you have this code running, try downloading a few FASTA sequences for the [antifreeze proteins](https://pdb101.rcsb.org/motm/120) of cold water fish. Then download the sequences of other families of related proteins (eg Hemoglobin, Insulin and P53) from other species. Process these sequences according to Questions 3 and 4. Have a look at the resulting distance matrix - is any of these groups of proteins characterised by a distinctive pattern of usage of aminoacids? NOTE: no marks are assigned for this section."
   ]
  },
  {
   "cell_type": "markdown",
   "metadata": {},
   "source": [
    "## Examiners\n",
    "\n",
    "Dr Fabrizio Smeraldi *(f.smeraldi@qmul.ac.uk)*; Prof Conrad Bessant *(c.bessant@qmul.ac.uk)*"
   ]
  },
  {
   "cell_type": "code",
   "execution_count": null,
   "metadata": {},
   "outputs": [],
   "source": []
  }
 ],
 "metadata": {
  "kernelspec": {
   "display_name": "Python 3",
   "language": "python",
   "name": "python3"
  },
  "language_info": {
   "codemirror_mode": {
    "name": "ipython",
    "version": 3
   },
   "file_extension": ".py",
   "mimetype": "text/x-python",
   "name": "python",
   "nbconvert_exporter": "python",
   "pygments_lexer": "ipython3",
   "version": "3.7.6"
  }
 },
 "nbformat": 4,
 "nbformat_minor": 4
}
